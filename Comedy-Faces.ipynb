{
 "cells": [
  {
   "cell_type": "code",
   "execution_count": 1,
   "metadata": {},
   "outputs": [],
   "source": [
    "# importing opencv and dlib\n",
    "import cv2\n",
    "import dlib"
   ]
  },
  {
   "cell_type": "code",
   "execution_count": 2,
   "metadata": {},
   "outputs": [],
   "source": [
    "# set up the 68 point facial landmark detector\n",
    "detector = dlib.get_frontal_face_detector()\n",
    "predictor = dlib.shape_predictor(\"shape_predictor_68_face_landmarks.dat\")"
   ]
  },
  {
   "cell_type": "code",
   "execution_count": 3,
   "metadata": {},
   "outputs": [],
   "source": [
    "# load input video\n",
    "stream = cv2.VideoCapture('jim-carrey.mp4')"
   ]
  },
  {
   "cell_type": "code",
   "execution_count": 4,
   "metadata": {},
   "outputs": [],
   "source": [
    "# create output video file\n",
    "\n",
    "# for Mac OS, this is the codec for writing mp4 files\n",
    "codec = cv2.VideoWriter_fourcc('m','p','4','v')\n",
    "frame_rate = 15\n",
    "# save tagged video output in output.mp4 file\n",
    "output = cv2.VideoWriter('jim-carrey-output.mp4', codec, frame_rate, (1280,720), True)\n",
    "\n",
    "# note: please change the dimensions (1280,720) to match the input video dimensions"
   ]
  },
  {
   "cell_type": "code",
   "execution_count": 5,
   "metadata": {},
   "outputs": [],
   "source": [
    "# processing video stream frame by frame\n",
    "while 1:\n",
    "        flag, frame = stream.read()\n",
    "        if flag:\n",
    "                # convert to grayscale\n",
    "                img_gray = cv2.cvtColor(frame, cv2.COLOR_BGR2GRAY)\n",
    "\n",
    "                # detect faces in the image\n",
    "                faces = detector(img_gray, 0)\n",
    "\n",
    "                # loop through each face in image\n",
    "                for face in faces:\n",
    "\n",
    "                        # get the facial landmarks\n",
    "                        landmarks = predictor(img_gray, face)\n",
    "\n",
    "                        landmark_list = []\n",
    "                        for i in range(landmarks.num_parts):\n",
    "                                landmark_list.append((landmarks.part(i).x, landmarks.part(i).y))\n",
    "\n",
    "                        # draw facial landmarks on video frame\n",
    "                        for xy in landmark_list:\n",
    "                                cv2.circle(frame, (xy[0], xy[1]), 5, (255, 255, 0), -1)\n",
    "\n",
    "                # write this frame into output video file\n",
    "                output.write(frame)\n",
    "        \n",
    "                # standard opencv stuff to wait after each frame\n",
    "                if cv2.waitKey(1) & 0xFF == ord('q'):\n",
    "                        break\n",
    "\n",
    "        else:\n",
    "                break\n",
    "\n",
    "output.release()\n",
    "stream.release()\n",
    "cv2.destroyAllWindows()"
   ]
  },
  {
   "cell_type": "code",
   "execution_count": 6,
   "metadata": {},
   "outputs": [
    {
     "data": {
      "text/html": [
       "<video src=\"jim-carrey-output.mp4\" controls  >\n",
       "      Your browser does not support the <code>video</code> element.\n",
       "    </video>"
      ],
      "text/plain": [
       "<IPython.core.display.Video object>"
      ]
     },
     "execution_count": 6,
     "metadata": {},
     "output_type": "execute_result"
    }
   ],
   "source": [
    "# play output video\n",
    "from IPython.display import Video\n",
    "Video(\"jim-carrey-output.mp4\")"
   ]
  },
  {
   "cell_type": "code",
   "execution_count": null,
   "metadata": {},
   "outputs": [],
   "source": [
    "# that's it folks.. isn't it lovely!"
   ]
  }
 ],
 "metadata": {
  "kernelspec": {
   "display_name": "Python 3",
   "language": "python",
   "name": "python3"
  },
  "language_info": {
   "codemirror_mode": {
    "name": "ipython",
    "version": 3
   },
   "file_extension": ".py",
   "mimetype": "text/x-python",
   "name": "python",
   "nbconvert_exporter": "python",
   "pygments_lexer": "ipython3",
   "version": "3.7.3"
  }
 },
 "nbformat": 4,
 "nbformat_minor": 4
}
